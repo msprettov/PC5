{
 "cells": [
  {
   "cell_type": "markdown",
   "id": "9a004934-be26-482d-b9c4-d4cfac05ce29",
   "metadata": {
    "id": "9a004934-be26-482d-b9c4-d4cfac05ce29"
   },
   "source": [
    "## Procesamiento Datos Pandas\n",
    "\n",
    "Para esta prueba deberá emplear los datos del archivo candidates.csv para lo cual deberá:\n",
    "\n",
    "1. Almanecar los datos en una base de datos. (Asegurar el almacenamiento con el tipo de dato apropiado)\n",
    "2. A partir de la lectura de los datos deberá generar un procesamiento reporte.\n",
    "    \n",
    "    (Cree el proceso que consideré más conveniente, realizarlo lo más complejo que le sea posible)\n",
    "    \n",
    "3. Realizar un código de envio de correos integrado en su solución.\n",
    "\n",
    "\n",
    "El archivo candidates.csv contiene 50k filas de datos sobre candidatos. Los campos que estamos usando son:\n",
    "- First Name\n",
    "- Last Name\n",
    "- Email\n",
    "- Country\n",
    "- Application Date\n",
    "- Yoe (years of experience)\n",
    "- Seniority\n",
    "- Technology\n",
    "- Code Challenge Score\n",
    "- Technical Interview\n"
   ]
  },
  {
   "cell_type": "code",
   "execution_count": 2,
   "id": "59cd2be4-533a-46cd-a117-0903c90a97e9",
   "metadata": {
    "id": "59cd2be4-533a-46cd-a117-0903c90a97e9",
    "outputId": "94e20d73-fa0f-4d47-d630-8110ef980fdb"
   },
   "outputs": [
    {
     "name": "stdout",
     "output_type": "stream",
     "text": [
      "      First Name;Last Name;Email;Application Date;Country;YOE;Seniority;Technology;Code Challenge Score;Technical Interview Score\n",
      "0      Bernadette;Langworth;leonard91@yahoo.com;2021-...                                                                         \n",
      "1      Camryn;Reynolds;zelda56@hotmail.com;2021-09-09...                                                                         \n",
      "2      Larue;Spinka;okey_schultz41@gmail.com;2020-04-...                                                                         \n",
      "3      Arch;Spinka;elvera_kulas@yahoo.com;2020-10-01;...                                                                         \n",
      "4      Larue;Altenwerth;minnie.gislason@gmail.com;202...                                                                         \n",
      "...                                                  ...                                                                         \n",
      "49995  Bethany;Shields;rocky_mitchell@hotmail.com;202...                                                                         \n",
      "49996  Era;Swaniawski;dolores.roob@hotmail.com;2020-0...                                                                         \n",
      "49997  Martin;Lakin;savanah.stracke@gmail.com;2018-12...                                                                         \n",
      "49998  Aliya;Abernathy;vivienne.fritsch@yahoo.com;202...                                                                         \n",
      "49999  Coleman;Wisozk;abigayle.crooks@yahoo.com;2022-...                                                                         \n",
      "\n",
      "[50000 rows x 1 columns]\n"
     ]
    }
   ],
   "source": [
    "import pandas as pd\n",
    "import sqlite3\n",
    "\n",
    "candidates = pd.read_csv('src/candidates.csv')\n",
    "\n",
    "conn = sqlite3.connect('candidates.db')\n",
    "candidates.to_sql('candidates', conn, if_exists='replace', index=False)\n",
    "\n",
    "print(candidates)"
   ]
  },
  {
   "cell_type": "code",
   "execution_count": 3,
   "id": "5289e29f-ba7a-48e3-b884-9a7d56b4f71b",
   "metadata": {
    "id": "5289e29f-ba7a-48e3-b884-9a7d56b4f71b"
   },
   "outputs": [
    {
     "ename": "UnicodeEncodeError",
     "evalue": "'ascii' codec can't encode character '\\xf1' in position 32: ordinal not in range(128)",
     "output_type": "error",
     "traceback": [
      "\u001b[1;31m---------------------------------------------------------------------------\u001b[0m",
      "\u001b[1;31mUnicodeEncodeError\u001b[0m                        Traceback (most recent call last)",
      "Cell \u001b[1;32mIn[3], line 16\u001b[0m\n\u001b[0;32m     14\u001b[0m server \u001b[38;5;241m=\u001b[39m smtplib\u001b[38;5;241m.\u001b[39mSMTP(\u001b[38;5;124m'\u001b[39m\u001b[38;5;124msmtp.gmail.com\u001b[39m\u001b[38;5;124m'\u001b[39m, \u001b[38;5;241m587\u001b[39m)\n\u001b[0;32m     15\u001b[0m server\u001b[38;5;241m.\u001b[39mstarttls()\n\u001b[1;32m---> 16\u001b[0m server\u001b[38;5;241m.\u001b[39mlogin(\u001b[38;5;124m'\u001b[39m\u001b[38;5;124mtu_correo@gmail.com\u001b[39m\u001b[38;5;124m'\u001b[39m, \u001b[38;5;124m'\u001b[39m\u001b[38;5;124mtu_contraseña\u001b[39m\u001b[38;5;124m'\u001b[39m)\n\u001b[0;32m     17\u001b[0m text \u001b[38;5;241m=\u001b[39m msg\u001b[38;5;241m.\u001b[39mas_string()\n\u001b[0;32m     18\u001b[0m server\u001b[38;5;241m.\u001b[39msendmail(\u001b[38;5;124m'\u001b[39m\u001b[38;5;124mtu_correo@gmail.com\u001b[39m\u001b[38;5;124m'\u001b[39m, \u001b[38;5;124m'\u001b[39m\u001b[38;5;124mdestinatario@gmail.com\u001b[39m\u001b[38;5;124m'\u001b[39m, text)\n",
      "File \u001b[1;32m~\\anaconda3\\Lib\\smtplib.py:739\u001b[0m, in \u001b[0;36mSMTP.login\u001b[1;34m(self, user, password, initial_response_ok)\u001b[0m\n\u001b[0;32m    737\u001b[0m method_name \u001b[38;5;241m=\u001b[39m \u001b[38;5;124m'\u001b[39m\u001b[38;5;124mauth_\u001b[39m\u001b[38;5;124m'\u001b[39m \u001b[38;5;241m+\u001b[39m authmethod\u001b[38;5;241m.\u001b[39mlower()\u001b[38;5;241m.\u001b[39mreplace(\u001b[38;5;124m'\u001b[39m\u001b[38;5;124m-\u001b[39m\u001b[38;5;124m'\u001b[39m, \u001b[38;5;124m'\u001b[39m\u001b[38;5;124m_\u001b[39m\u001b[38;5;124m'\u001b[39m)\n\u001b[0;32m    738\u001b[0m \u001b[38;5;28;01mtry\u001b[39;00m:\n\u001b[1;32m--> 739\u001b[0m     (code, resp) \u001b[38;5;241m=\u001b[39m \u001b[38;5;28mself\u001b[39m\u001b[38;5;241m.\u001b[39mauth(\n\u001b[0;32m    740\u001b[0m         authmethod, \u001b[38;5;28mgetattr\u001b[39m(\u001b[38;5;28mself\u001b[39m, method_name),\n\u001b[0;32m    741\u001b[0m         initial_response_ok\u001b[38;5;241m=\u001b[39minitial_response_ok)\n\u001b[0;32m    742\u001b[0m     \u001b[38;5;66;03m# 235 == 'Authentication successful'\u001b[39;00m\n\u001b[0;32m    743\u001b[0m     \u001b[38;5;66;03m# 503 == 'Error: already authenticated'\u001b[39;00m\n\u001b[0;32m    744\u001b[0m     \u001b[38;5;28;01mif\u001b[39;00m code \u001b[38;5;129;01min\u001b[39;00m (\u001b[38;5;241m235\u001b[39m, \u001b[38;5;241m503\u001b[39m):\n",
      "File \u001b[1;32m~\\anaconda3\\Lib\\smtplib.py:641\u001b[0m, in \u001b[0;36mSMTP.auth\u001b[1;34m(self, mechanism, authobject, initial_response_ok)\u001b[0m\n\u001b[0;32m    639\u001b[0m initial_response \u001b[38;5;241m=\u001b[39m (authobject() \u001b[38;5;28;01mif\u001b[39;00m initial_response_ok \u001b[38;5;28;01melse\u001b[39;00m \u001b[38;5;28;01mNone\u001b[39;00m)\n\u001b[0;32m    640\u001b[0m \u001b[38;5;28;01mif\u001b[39;00m initial_response \u001b[38;5;129;01mis\u001b[39;00m \u001b[38;5;129;01mnot\u001b[39;00m \u001b[38;5;28;01mNone\u001b[39;00m:\n\u001b[1;32m--> 641\u001b[0m     response \u001b[38;5;241m=\u001b[39m encode_base64(initial_response\u001b[38;5;241m.\u001b[39mencode(\u001b[38;5;124m'\u001b[39m\u001b[38;5;124mascii\u001b[39m\u001b[38;5;124m'\u001b[39m), eol\u001b[38;5;241m=\u001b[39m\u001b[38;5;124m'\u001b[39m\u001b[38;5;124m'\u001b[39m)\n\u001b[0;32m    642\u001b[0m     (code, resp) \u001b[38;5;241m=\u001b[39m \u001b[38;5;28mself\u001b[39m\u001b[38;5;241m.\u001b[39mdocmd(\u001b[38;5;124m\"\u001b[39m\u001b[38;5;124mAUTH\u001b[39m\u001b[38;5;124m\"\u001b[39m, mechanism \u001b[38;5;241m+\u001b[39m \u001b[38;5;124m\"\u001b[39m\u001b[38;5;124m \u001b[39m\u001b[38;5;124m\"\u001b[39m \u001b[38;5;241m+\u001b[39m response)\n\u001b[0;32m    643\u001b[0m     \u001b[38;5;28mself\u001b[39m\u001b[38;5;241m.\u001b[39m_auth_challenge_count \u001b[38;5;241m=\u001b[39m \u001b[38;5;241m1\u001b[39m\n",
      "\u001b[1;31mUnicodeEncodeError\u001b[0m: 'ascii' codec can't encode character '\\xf1' in position 32: ordinal not in range(128)"
     ]
    }
   ],
   "source": [
    "import smtplib\n",
    "\n",
    "from email.mime.multipart import MIMEMultipart\n",
    "from email.mime.text import MIMEText\n",
    "\n",
    "msg = MIMEMultipart()\n",
    "msg['From'] = 'tu_correo@gmail.com'\n",
    "msg['To'] = 'destinatario@gmail.com'\n",
    "msg['Subject'] = 'Asunto del correo'\n",
    "\n",
    "body = 'Contenido del correo'\n",
    "msg.attach(MIMEText(body, 'plain'))\n",
    "\n",
    "server = smtplib.SMTP('smtp.gmail.com', 587)\n",
    "server.starttls()\n",
    "server.login('tu_correo@gmail.com', 'tu_contraseña')\n",
    "text = msg.as_string()\n",
    "server.sendmail('tu_correo@gmail.com', 'destinatario@gmail.com', text)\n",
    "server.quit()"
   ]
  },
  {
   "cell_type": "code",
   "execution_count": null,
   "id": "a3761f9f-9685-4c4f-bc03-f334cc78599f",
   "metadata": {
    "id": "a3761f9f-9685-4c4f-bc03-f334cc78599f"
   },
   "outputs": [],
   "source": []
  }
 ],
 "metadata": {
  "colab": {
   "provenance": []
  },
  "kernelspec": {
   "display_name": "Python 3 (ipykernel)",
   "language": "python",
   "name": "python3"
  },
  "language_info": {
   "codemirror_mode": {
    "name": "ipython",
    "version": 3
   },
   "file_extension": ".py",
   "mimetype": "text/x-python",
   "name": "python",
   "nbconvert_exporter": "python",
   "pygments_lexer": "ipython3",
   "version": "3.11.3"
  }
 },
 "nbformat": 4,
 "nbformat_minor": 5
}
