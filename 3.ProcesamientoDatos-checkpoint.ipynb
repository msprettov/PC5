{
 "cells": [
  {
   "cell_type": "markdown",
   "id": "9a004934-be26-482d-b9c4-d4cfac05ce29",
   "metadata": {
    "id": "9a004934-be26-482d-b9c4-d4cfac05ce29"
   },
   "source": [
    "## Procesamiento Datos Pandas\n",
    "\n",
    "Para esta prueba deberá emplear los datos del archivo candidates.csv para lo cual deberá:\n",
    "\n",
    "1. Almanecar los datos en una base de datos. (Asegurar el almacenamiento con el tipo de dato apropiado)\n",
    "2. A partir de la lectura de los datos deberá generar un procesamiento reporte.\n",
    "    \n",
    "    (Cree el proceso que consideré más conveniente, realizarlo lo más complejo que le sea posible)\n",
    "    \n",
    "3. Realizar un código de envio de correos integrado en su solución.\n",
    "\n",
    "\n",
    "El archivo candidates.csv contiene 50k filas de datos sobre candidatos. Los campos que estamos usando son:\n",
    "- First Name\n",
    "- Last Name\n",
    "- Email\n",
    "- Country\n",
    "- Application Date\n",
    "- Yoe (years of experience)\n",
    "- Seniority\n",
    "- Technology\n",
    "- Code Challenge Score\n",
    "- Technical Interview\n"
   ]
  },
  {
   "cell_type": "code",
   "execution_count": 2,
   "id": "59cd2be4-533a-46cd-a117-0903c90a97e9",
   "metadata": {
    "id": "59cd2be4-533a-46cd-a117-0903c90a97e9",
    "outputId": "94e20d73-fa0f-4d47-d630-8110ef980fdb"
   },
   "outputs": [
    {
     "name": "stdout",
     "output_type": "stream",
     "text": [
      "      First Name;Last Name;Email;Application Date;Country;YOE;Seniority;Technology;Code Challenge Score;Technical Interview Score\n",
      "0      Bernadette;Langworth;leonard91@yahoo.com;2021-...                                                                         \n",
      "1      Camryn;Reynolds;zelda56@hotmail.com;2021-09-09...                                                                         \n",
      "2      Larue;Spinka;okey_schultz41@gmail.com;2020-04-...                                                                         \n",
      "3      Arch;Spinka;elvera_kulas@yahoo.com;2020-10-01;...                                                                         \n",
      "4      Larue;Altenwerth;minnie.gislason@gmail.com;202...                                                                         \n",
      "...                                                  ...                                                                         \n",
      "49995  Bethany;Shields;rocky_mitchell@hotmail.com;202...                                                                         \n",
      "49996  Era;Swaniawski;dolores.roob@hotmail.com;2020-0...                                                                         \n",
      "49997  Martin;Lakin;savanah.stracke@gmail.com;2018-12...                                                                         \n",
      "49998  Aliya;Abernathy;vivienne.fritsch@yahoo.com;202...                                                                         \n",
      "49999  Coleman;Wisozk;abigayle.crooks@yahoo.com;2022-...                                                                         \n",
      "\n",
      "[50000 rows x 1 columns]\n"
     ]
    }
   ],
   "source": [
    "import pandas as pd\n",
    "import sqlite3\n",
    "\n",
    "candidates = pd.read_csv('src/candidates.csv')\n",
    "\n",
    "conn = sqlite3.connect('candidates.db')\n",
    "candidates.to_sql('candidates', conn, if_exists='replace', index=False)\n",
    "\n",
    "print(candidates)"
   ]
  },
  {
   "cell_type": "code",
   "execution_count": null,
   "id": "5289e29f-ba7a-48e3-b884-9a7d56b4f71b",
   "metadata": {
    "id": "5289e29f-ba7a-48e3-b884-9a7d56b4f71b"
   },
   "outputs": [],
   "source": []
  },
  {
   "cell_type": "code",
   "execution_count": null,
   "id": "a3761f9f-9685-4c4f-bc03-f334cc78599f",
   "metadata": {
    "id": "a3761f9f-9685-4c4f-bc03-f334cc78599f"
   },
   "outputs": [],
   "source": [
    "import smtplib\n",
    "\n",
    "from email.mime.multipart import MIMEMultipart\n",
    "from email.mime.text import MIMEText\n",
    "\n",
    "msg = MIMEMultipart()\n",
    "msg['From'] = 'tu_correo@gmail.com'\n",
    "msg['To'] = 'destinatario@gmail.com'\n",
    "msg['Subject'] = 'Asunto del correo'\n",
    "\n",
    "body = 'Contenido del correo'\n",
    "msg.attach(MIMEText(body, 'plain'))\n",
    "\n",
    "server = smtplib.SMTP('smtp.gmail.com', 587)\n",
    "server.starttls()\n",
    "server.login('tu_correo@gmail.com', 'tu_contraseña')\n",
    "text = msg.as_string()\n",
    "server.sendmail('tu_correo@gmail.com', 'destinatario@gmail.com', text)\n",
    "server.quit()"
   ]
  }
 ],
 "metadata": {
  "colab": {
   "provenance": []
  },
  "kernelspec": {
   "display_name": "Python 3 (ipykernel)",
   "language": "python",
   "name": "python3"
  },
  "language_info": {
   "codemirror_mode": {
    "name": "ipython",
    "version": 3
   },
   "file_extension": ".py",
   "mimetype": "text/x-python",
   "name": "python",
   "nbconvert_exporter": "python",
   "pygments_lexer": "ipython3",
   "version": "3.11.3"
  }
 },
 "nbformat": 4,
 "nbformat_minor": 5
}
